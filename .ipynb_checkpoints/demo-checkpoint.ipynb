{
 "cells": [
  {
   "cell_type": "markdown",
   "metadata": {
    "pycharm": {
     "name": "#%% md\n"
    }
   },
   "source": [
    "# Stitching Fluorescence Microscopy Images\n",
    "\n",
    "*Author: Alexander Marx, Heidelberg University*\n",
    "\n",
    "*Original Idea from Luna Huang, UC Berkeley (https://github.com/luna983/stitch-aerial-photos)*"
   ]
  },
  {
   "cell_type": "code",
   "execution_count": 2,
   "metadata": {},
   "outputs": [
    {
     "name": "stdout",
     "output_type": "stream",
     "text": [
      "{'img_meta': '^(?P<Row>[A-H]).*(?P<Column>[0-9]{2}).*(?P<Field>[0-9]{2}).*', 'img_suffix': '.tif', 'in_dir_images': 'data/plate', 'out_dir_images': 'data/output', 'n_rows': 5, 'n_cols': 5, 'channels': ['TexasRed', 'DAPI', 'FITC', 'Cy5', 'Cy3'], 'feat_channel': 'TexasRed', 'overlap': 20}\n"
     ]
    }
   ],
   "source": [
    "import yaml\n",
    "import pandas as pd\n",
    "\n",
    "from main import run\n",
    "\n",
    "# parse config file\n",
    "with open('config.yaml', 'r') as f:\n",
    "    cfg = yaml.safe_load(f)\n",
    "\n",
    "print(cfg)"
   ]
  }
 ],
 "metadata": {
  "kernelspec": {
   "display_name": "PyCharm (flumi-stitch)",
   "language": "python",
   "name": "pycharm-2acccc79"
  },
  "language_info": {
   "codemirror_mode": {
    "name": "ipython",
    "version": 3
   },
   "file_extension": ".py",
   "mimetype": "text/x-python",
   "name": "python",
   "nbconvert_exporter": "python",
   "pygments_lexer": "ipython3",
   "version": "3.8.5"
  }
 },
 "nbformat": 4,
 "nbformat_minor": 1
}
